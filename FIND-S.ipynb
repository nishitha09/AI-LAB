{
 "cells": [
  {
   "cell_type": "code",
   "execution_count": 1,
   "id": "4b683025",
   "metadata": {},
   "outputs": [
    {
     "name": "stdout",
     "output_type": "stream",
     "text": [
      "   Sunny  Warm Normal  Strong Warm.1    Same  Yes\n",
      "0  Sunny  Warm   High  Strong   Warm    Same  Yes\n",
      "1  Rainy  Cold   High  Strong   Warm  Change   No\n",
      "2  Sunny  Warm   High  Strong   Cool  Change  Yes\n",
      "The attributes are:  [['Sunny' 'Warm' 'High' 'Strong' 'Warm' 'Same']\n",
      " ['Rainy' 'Cold' 'High' 'Strong' 'Warm' 'Change']\n",
      " ['Sunny' 'Warm' 'High' 'Strong' 'Cool' 'Change']]\n",
      "The target is:  ['Yes' 'No' 'Yes']\n",
      "The final hypothesis is: ['Sunny' 'Warm' 'High' 'Strong' '?' '?']\n"
     ]
    }
   ],
   "source": [
    "import pandas as pd\n",
    "import numpy as np\n",
    "data = pd.read_csv(\"ws.csv\")\n",
    "print(data)\n",
    "d = np.array(data)[:,:-1]\n",
    "print(\"The attributes are: \",d)\n",
    "target = np.array(data)[:,-1]\n",
    "print(\"The target is: \",target)\n",
    "def train(c,t):\n",
    "    for i, val in enumerate(t):\n",
    "        if val == \"Yes\":\n",
    "            specific_hypothesis = c[i].copy()\n",
    "            break\n",
    "    for i, val in enumerate(c):\n",
    "        if t[i] == \"Yes\":\n",
    "            for x in range(len(specific_hypothesis)):\n",
    "                if val[x] != specific_hypothesis[x]:\n",
    "                    specific_hypothesis[x] = '?'\n",
    "                else:\n",
    "                    pass\n",
    "                 \n",
    "    return specific_hypothesis\n",
    "print(\"The final hypothesis is:\",train(d,target))"
   ]
  },
  {
   "cell_type": "code",
   "execution_count": null,
   "id": "97b4b44c",
   "metadata": {},
   "outputs": [],
   "source": []
  }
 ],
 "metadata": {
  "kernelspec": {
   "display_name": "Python 3 (ipykernel)",
   "language": "python",
   "name": "python3"
  },
  "language_info": {
   "codemirror_mode": {
    "name": "ipython",
    "version": 3
   },
   "file_extension": ".py",
   "mimetype": "text/x-python",
   "name": "python",
   "nbconvert_exporter": "python",
   "pygments_lexer": "ipython3",
   "version": "3.9.13"
  }
 },
 "nbformat": 4,
 "nbformat_minor": 5
}
