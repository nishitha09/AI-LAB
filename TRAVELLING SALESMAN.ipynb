{
 "cells": [
  {
   "cell_type": "code",
   "execution_count": 1,
   "id": "36cab5e3",
   "metadata": {},
   "outputs": [
    {
     "name": "stdout",
     "output_type": "stream",
     "text": [
      "80\n"
     ]
    }
   ],
   "source": [
    "from sys import maxsize\n",
    "from itertools import permutations\n",
    "v=4\n",
    "def travellingSalesmanProblem(graph, s):\n",
    "    vertex=[]\n",
    "    for i in range(v):\n",
    "        if i != s:\n",
    "            vertex.append(i)\n",
    "        min_path = maxsize\n",
    "        next_permutation=permutations(vertex)\n",
    "        for i in next_permutation:\n",
    "            current_pathweight = 0\n",
    "            k=s\n",
    "            for j in i:\n",
    "                current_pathweight += graph[k][j]\n",
    "                k=j\n",
    "            current_pathweight += graph[k][s]\n",
    "            min_path = min(min_path,current_pathweight)\n",
    "    return min_path\n",
    "if __name__==\"__main__\":\n",
    "    graph=[[0,10,15,20],[10,0,35,25],\n",
    "           [15,35,0,30],[20,25,30,0]]\n",
    "    s = 0\n",
    "    print(travellingSalesmanProblem(graph, s))"
   ]
  },
  {
   "cell_type": "code",
   "execution_count": null,
   "id": "8f978497",
   "metadata": {},
   "outputs": [],
   "source": []
  }
 ],
 "metadata": {
  "kernelspec": {
   "display_name": "Python 3 (ipykernel)",
   "language": "python",
   "name": "python3"
  },
  "language_info": {
   "codemirror_mode": {
    "name": "ipython",
    "version": 3
   },
   "file_extension": ".py",
   "mimetype": "text/x-python",
   "name": "python",
   "nbconvert_exporter": "python",
   "pygments_lexer": "ipython3",
   "version": "3.9.13"
  }
 },
 "nbformat": 4,
 "nbformat_minor": 5
}
